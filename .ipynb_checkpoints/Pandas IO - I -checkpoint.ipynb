{
 "cells": [
  {
   "cell_type": "markdown",
   "id": "acca6663",
   "metadata": {},
   "source": [
    "### importing\n",
    "\n"
   ]
  },
  {
   "cell_type": "code",
   "execution_count": 1,
   "id": "b3f73367",
   "metadata": {},
   "outputs": [],
   "source": [
    "import pandas as pd"
   ]
  },
  {
   "cell_type": "code",
   "execution_count": 2,
   "id": "4ba6de1f",
   "metadata": {},
   "outputs": [],
   "source": [
    "# reading information from URL"
   ]
  },
  {
   "cell_type": "code",
   "execution_count": 3,
   "id": "7bf69dec",
   "metadata": {},
   "outputs": [],
   "source": [
    "names_f = pd.read_json('https://guilhermeonrails.github.io/nomes_ibge/nomes-f.json')\n",
    "names_m = pd.read_json('https://guilhermeonrails.github.io/nomes_ibge/nomes-m.json')"
   ]
  },
  {
   "cell_type": "code",
   "execution_count": 4,
   "id": "a3de1bb7",
   "metadata": {},
   "outputs": [
    {
     "data": {
      "text/html": [
       "<div>\n",
       "<style scoped>\n",
       "    .dataframe tbody tr th:only-of-type {\n",
       "        vertical-align: middle;\n",
       "    }\n",
       "\n",
       "    .dataframe tbody tr th {\n",
       "        vertical-align: top;\n",
       "    }\n",
       "\n",
       "    .dataframe thead th {\n",
       "        text-align: right;\n",
       "    }\n",
       "</style>\n",
       "<table border=\"1\" class=\"dataframe\">\n",
       "  <thead>\n",
       "    <tr style=\"text-align: right;\">\n",
       "      <th></th>\n",
       "      <th>nome</th>\n",
       "      <th>regiao</th>\n",
       "      <th>freq</th>\n",
       "      <th>rank</th>\n",
       "      <th>sexo</th>\n",
       "    </tr>\n",
       "  </thead>\n",
       "  <tbody>\n",
       "    <tr>\n",
       "      <th>162</th>\n",
       "      <td>ESTER</td>\n",
       "      <td>0</td>\n",
       "      <td>99770</td>\n",
       "      <td>163</td>\n",
       "      <td>F</td>\n",
       "    </tr>\n",
       "    <tr>\n",
       "      <th>63</th>\n",
       "      <td>ERICA</td>\n",
       "      <td>0</td>\n",
       "      <td>231088</td>\n",
       "      <td>64</td>\n",
       "      <td>F</td>\n",
       "    </tr>\n",
       "    <tr>\n",
       "      <th>60</th>\n",
       "      <td>SARA</td>\n",
       "      <td>0</td>\n",
       "      <td>233349</td>\n",
       "      <td>61</td>\n",
       "      <td>F</td>\n",
       "    </tr>\n",
       "    <tr>\n",
       "      <th>132</th>\n",
       "      <td>GABRIELE</td>\n",
       "      <td>0</td>\n",
       "      <td>122545</td>\n",
       "      <td>133</td>\n",
       "      <td>F</td>\n",
       "    </tr>\n",
       "    <tr>\n",
       "      <th>170</th>\n",
       "      <td>MARINALVA</td>\n",
       "      <td>0</td>\n",
       "      <td>93355</td>\n",
       "      <td>171</td>\n",
       "      <td>F</td>\n",
       "    </tr>\n",
       "  </tbody>\n",
       "</table>\n",
       "</div>"
      ],
      "text/plain": [
       "          nome  regiao    freq  rank sexo\n",
       "162      ESTER       0   99770   163    F\n",
       "63       ERICA       0  231088    64    F\n",
       "60        SARA       0  233349    61    F\n",
       "132   GABRIELE       0  122545   133    F\n",
       "170  MARINALVA       0   93355   171    F"
      ]
     },
     "execution_count": 4,
     "metadata": {},
     "output_type": "execute_result"
    }
   ],
   "source": [
    "names_f.sample(5)\n"
   ]
  },
  {
   "cell_type": "code",
   "execution_count": 5,
   "id": "ab9b6445",
   "metadata": {},
   "outputs": [
    {
     "data": {
      "text/html": [
       "<div>\n",
       "<style scoped>\n",
       "    .dataframe tbody tr th:only-of-type {\n",
       "        vertical-align: middle;\n",
       "    }\n",
       "\n",
       "    .dataframe tbody tr th {\n",
       "        vertical-align: top;\n",
       "    }\n",
       "\n",
       "    .dataframe thead th {\n",
       "        text-align: right;\n",
       "    }\n",
       "</style>\n",
       "<table border=\"1\" class=\"dataframe\">\n",
       "  <thead>\n",
       "    <tr style=\"text-align: right;\">\n",
       "      <th></th>\n",
       "      <th>nome</th>\n",
       "      <th>regiao</th>\n",
       "      <th>freq</th>\n",
       "      <th>rank</th>\n",
       "      <th>sexo</th>\n",
       "    </tr>\n",
       "  </thead>\n",
       "  <tbody>\n",
       "    <tr>\n",
       "      <th>178</th>\n",
       "      <td>DENILSON</td>\n",
       "      <td>0</td>\n",
       "      <td>74095</td>\n",
       "      <td>179</td>\n",
       "      <td>M</td>\n",
       "    </tr>\n",
       "    <tr>\n",
       "      <th>120</th>\n",
       "      <td>EDILSON</td>\n",
       "      <td>0</td>\n",
       "      <td>123872</td>\n",
       "      <td>121</td>\n",
       "      <td>M</td>\n",
       "    </tr>\n",
       "    <tr>\n",
       "      <th>61</th>\n",
       "      <td>CICERO</td>\n",
       "      <td>0</td>\n",
       "      <td>247711</td>\n",
       "      <td>62</td>\n",
       "      <td>M</td>\n",
       "    </tr>\n",
       "    <tr>\n",
       "      <th>183</th>\n",
       "      <td>MARLON</td>\n",
       "      <td>0</td>\n",
       "      <td>72507</td>\n",
       "      <td>184</td>\n",
       "      <td>M</td>\n",
       "    </tr>\n",
       "    <tr>\n",
       "      <th>17</th>\n",
       "      <td>FELIPE</td>\n",
       "      <td>0</td>\n",
       "      <td>615924</td>\n",
       "      <td>18</td>\n",
       "      <td>M</td>\n",
       "    </tr>\n",
       "  </tbody>\n",
       "</table>\n",
       "</div>"
      ],
      "text/plain": [
       "         nome  regiao    freq  rank sexo\n",
       "178  DENILSON       0   74095   179    M\n",
       "120   EDILSON       0  123872   121    M\n",
       "61     CICERO       0  247711    62    M\n",
       "183    MARLON       0   72507   184    M\n",
       "17     FELIPE       0  615924    18    M"
      ]
     },
     "execution_count": 5,
     "metadata": {},
     "output_type": "execute_result"
    }
   ],
   "source": [
    "names_m.sample(5)"
   ]
  },
  {
   "cell_type": "code",
   "execution_count": 6,
   "id": "c4a1a698",
   "metadata": {},
   "outputs": [
    {
     "name": "stdout",
     "output_type": "stream",
     "text": [
      "The amount of entries is: 400\n"
     ]
    }
   ],
   "source": [
    "# checking number os entries on both DF:\n",
    "\n",
    "print('The amount of entries is: '+ str(len(names_f) + len(names_m)))\n",
    "\n",
    "# str will convert the values to string, without it a error will occour"
   ]
  },
  {
   "cell_type": "code",
   "execution_count": 7,
   "id": "b7dacb5d",
   "metadata": {},
   "outputs": [],
   "source": [
    "# merge both dF:\n",
    " \n",
    "frames = [names_f, names_m]"
   ]
  },
  {
   "cell_type": "code",
   "execution_count": 8,
   "id": "a9a8d68a",
   "metadata": {},
   "outputs": [],
   "source": [
    "names = pd.concat(frames)['nome'].to_frame() #to_frame() converts the result into a frame"
   ]
  },
  {
   "cell_type": "code",
   "execution_count": 9,
   "id": "2c05232e",
   "metadata": {},
   "outputs": [
    {
     "data": {
      "text/html": [
       "<div>\n",
       "<style scoped>\n",
       "    .dataframe tbody tr th:only-of-type {\n",
       "        vertical-align: middle;\n",
       "    }\n",
       "\n",
       "    .dataframe tbody tr th {\n",
       "        vertical-align: top;\n",
       "    }\n",
       "\n",
       "    .dataframe thead th {\n",
       "        text-align: right;\n",
       "    }\n",
       "</style>\n",
       "<table border=\"1\" class=\"dataframe\">\n",
       "  <thead>\n",
       "    <tr style=\"text-align: right;\">\n",
       "      <th></th>\n",
       "      <th>nome</th>\n",
       "    </tr>\n",
       "  </thead>\n",
       "  <tbody>\n",
       "    <tr>\n",
       "      <th>97</th>\n",
       "      <td>BARBARA</td>\n",
       "    </tr>\n",
       "    <tr>\n",
       "      <th>42</th>\n",
       "      <td>MATHEUS</td>\n",
       "    </tr>\n",
       "    <tr>\n",
       "      <th>59</th>\n",
       "      <td>MANUEL</td>\n",
       "    </tr>\n",
       "    <tr>\n",
       "      <th>175</th>\n",
       "      <td>RIAN</td>\n",
       "    </tr>\n",
       "    <tr>\n",
       "      <th>179</th>\n",
       "      <td>LILIANE</td>\n",
       "    </tr>\n",
       "  </tbody>\n",
       "</table>\n",
       "</div>"
      ],
      "text/plain": [
       "        nome\n",
       "97   BARBARA\n",
       "42   MATHEUS\n",
       "59    MANUEL\n",
       "175     RIAN\n",
       "179  LILIANE"
      ]
     },
     "execution_count": 9,
     "metadata": {},
     "output_type": "execute_result"
    }
   ],
   "source": [
    "names.sample(5)"
   ]
  },
  {
   "cell_type": "markdown",
   "id": "7cb36f27",
   "metadata": {},
   "source": [
    "# Adding ID to students"
   ]
  },
  {
   "cell_type": "code",
   "execution_count": 10,
   "id": "079713e2",
   "metadata": {},
   "outputs": [],
   "source": [
    "import numpy as np"
   ]
  },
  {
   "cell_type": "code",
   "execution_count": 11,
   "id": "140df16b",
   "metadata": {},
   "outputs": [],
   "source": [
    "students_total = len(names)"
   ]
  },
  {
   "cell_type": "code",
   "execution_count": 12,
   "id": "2143b186",
   "metadata": {},
   "outputs": [
    {
     "data": {
      "text/plain": [
       "400"
      ]
     },
     "execution_count": 12,
     "metadata": {},
     "output_type": "execute_result"
    }
   ],
   "source": [
    "students_total"
   ]
  },
  {
   "cell_type": "code",
   "execution_count": 13,
   "id": "59db3861",
   "metadata": {},
   "outputs": [],
   "source": [
    "names['student ID'] = np.random.permutation(students_total ) + 1\n",
    "# .random.permutation will set a random number to every student"
   ]
  },
  {
   "cell_type": "code",
   "execution_count": 14,
   "id": "89bdafb9",
   "metadata": {},
   "outputs": [
    {
     "data": {
      "text/html": [
       "<div>\n",
       "<style scoped>\n",
       "    .dataframe tbody tr th:only-of-type {\n",
       "        vertical-align: middle;\n",
       "    }\n",
       "\n",
       "    .dataframe tbody tr th {\n",
       "        vertical-align: top;\n",
       "    }\n",
       "\n",
       "    .dataframe thead th {\n",
       "        text-align: right;\n",
       "    }\n",
       "</style>\n",
       "<table border=\"1\" class=\"dataframe\">\n",
       "  <thead>\n",
       "    <tr style=\"text-align: right;\">\n",
       "      <th></th>\n",
       "      <th>nome</th>\n",
       "      <th>student ID</th>\n",
       "    </tr>\n",
       "  </thead>\n",
       "  <tbody>\n",
       "    <tr>\n",
       "      <th>47</th>\n",
       "      <td>JULIO</td>\n",
       "      <td>194</td>\n",
       "    </tr>\n",
       "    <tr>\n",
       "      <th>64</th>\n",
       "      <td>ROBSON</td>\n",
       "      <td>14</td>\n",
       "    </tr>\n",
       "    <tr>\n",
       "      <th>94</th>\n",
       "      <td>SABRINA</td>\n",
       "      <td>115</td>\n",
       "    </tr>\n",
       "    <tr>\n",
       "      <th>78</th>\n",
       "      <td>SILVIA</td>\n",
       "      <td>394</td>\n",
       "    </tr>\n",
       "    <tr>\n",
       "      <th>177</th>\n",
       "      <td>CLAUDINEI</td>\n",
       "      <td>36</td>\n",
       "    </tr>\n",
       "  </tbody>\n",
       "</table>\n",
       "</div>"
      ],
      "text/plain": [
       "          nome  student ID\n",
       "47       JULIO         194\n",
       "64      ROBSON          14\n",
       "94     SABRINA         115\n",
       "78      SILVIA         394\n",
       "177  CLAUDINEI          36"
      ]
     },
     "execution_count": 14,
     "metadata": {},
     "output_type": "execute_result"
    }
   ],
   "source": [
    "names.sample(5)"
   ]
  },
  {
   "cell_type": "code",
   "execution_count": 15,
   "id": "fcf81b54",
   "metadata": {},
   "outputs": [],
   "source": [
    "# creating an email adress to every student:\n",
    "\n",
    "domain = ['@emaildomain.com', '@emailservice.com']\n",
    "names['domain'] = np.random.choice(domain, students_total) #we use .choice() when we want to set the parameters"
   ]
  },
  {
   "cell_type": "code",
   "execution_count": 16,
   "id": "0188deed",
   "metadata": {},
   "outputs": [
    {
     "data": {
      "text/html": [
       "<div>\n",
       "<style scoped>\n",
       "    .dataframe tbody tr th:only-of-type {\n",
       "        vertical-align: middle;\n",
       "    }\n",
       "\n",
       "    .dataframe tbody tr th {\n",
       "        vertical-align: top;\n",
       "    }\n",
       "\n",
       "    .dataframe thead th {\n",
       "        text-align: right;\n",
       "    }\n",
       "</style>\n",
       "<table border=\"1\" class=\"dataframe\">\n",
       "  <thead>\n",
       "    <tr style=\"text-align: right;\">\n",
       "      <th></th>\n",
       "      <th>nome</th>\n",
       "      <th>student ID</th>\n",
       "      <th>domain</th>\n",
       "    </tr>\n",
       "  </thead>\n",
       "  <tbody>\n",
       "    <tr>\n",
       "      <th>27</th>\n",
       "      <td>LUANA</td>\n",
       "      <td>128</td>\n",
       "      <td>@emaildomain.com</td>\n",
       "    </tr>\n",
       "    <tr>\n",
       "      <th>156</th>\n",
       "      <td>YASMIN</td>\n",
       "      <td>270</td>\n",
       "      <td>@emailservice.com</td>\n",
       "    </tr>\n",
       "    <tr>\n",
       "      <th>93</th>\n",
       "      <td>ELIANA</td>\n",
       "      <td>332</td>\n",
       "      <td>@emailservice.com</td>\n",
       "    </tr>\n",
       "    <tr>\n",
       "      <th>1</th>\n",
       "      <td>JOAO</td>\n",
       "      <td>32</td>\n",
       "      <td>@emaildomain.com</td>\n",
       "    </tr>\n",
       "    <tr>\n",
       "      <th>86</th>\n",
       "      <td>CRISTINA</td>\n",
       "      <td>284</td>\n",
       "      <td>@emailservice.com</td>\n",
       "    </tr>\n",
       "  </tbody>\n",
       "</table>\n",
       "</div>"
      ],
      "text/plain": [
       "         nome  student ID             domain\n",
       "27      LUANA         128   @emaildomain.com\n",
       "156    YASMIN         270  @emailservice.com\n",
       "93     ELIANA         332  @emailservice.com\n",
       "1        JOAO          32   @emaildomain.com\n",
       "86   CRISTINA         284  @emailservice.com"
      ]
     },
     "execution_count": 16,
     "metadata": {},
     "output_type": "execute_result"
    }
   ],
   "source": [
    "names.sample(5)"
   ]
  },
  {
   "cell_type": "code",
   "execution_count": 17,
   "id": "cbd7aeb7",
   "metadata": {},
   "outputs": [],
   "source": [
    "# concatenating name and domain\n",
    "names['email'] = names.nome.str.cat(names.domain).str.lower()\n",
    "# .cat() to unite names and domain .str.lower() to keep everything lower case"
   ]
  },
  {
   "cell_type": "code",
   "execution_count": 18,
   "id": "8287023b",
   "metadata": {},
   "outputs": [
    {
     "data": {
      "text/html": [
       "<div>\n",
       "<style scoped>\n",
       "    .dataframe tbody tr th:only-of-type {\n",
       "        vertical-align: middle;\n",
       "    }\n",
       "\n",
       "    .dataframe tbody tr th {\n",
       "        vertical-align: top;\n",
       "    }\n",
       "\n",
       "    .dataframe thead th {\n",
       "        text-align: right;\n",
       "    }\n",
       "</style>\n",
       "<table border=\"1\" class=\"dataframe\">\n",
       "  <thead>\n",
       "    <tr style=\"text-align: right;\">\n",
       "      <th></th>\n",
       "      <th>nome</th>\n",
       "      <th>student ID</th>\n",
       "      <th>domain</th>\n",
       "      <th>email</th>\n",
       "    </tr>\n",
       "  </thead>\n",
       "  <tbody>\n",
       "    <tr>\n",
       "      <th>143</th>\n",
       "      <td>OTAVIO</td>\n",
       "      <td>307</td>\n",
       "      <td>@emailservice.com</td>\n",
       "      <td>otavio@emailservice.com</td>\n",
       "    </tr>\n",
       "    <tr>\n",
       "      <th>166</th>\n",
       "      <td>MICHEL</td>\n",
       "      <td>295</td>\n",
       "      <td>@emailservice.com</td>\n",
       "      <td>michel@emailservice.com</td>\n",
       "    </tr>\n",
       "    <tr>\n",
       "      <th>104</th>\n",
       "      <td>REINALDO</td>\n",
       "      <td>7</td>\n",
       "      <td>@emailservice.com</td>\n",
       "      <td>reinaldo@emailservice.com</td>\n",
       "    </tr>\n",
       "    <tr>\n",
       "      <th>30</th>\n",
       "      <td>ELIANE</td>\n",
       "      <td>86</td>\n",
       "      <td>@emaildomain.com</td>\n",
       "      <td>eliane@emaildomain.com</td>\n",
       "    </tr>\n",
       "    <tr>\n",
       "      <th>35</th>\n",
       "      <td>CARLA</td>\n",
       "      <td>176</td>\n",
       "      <td>@emailservice.com</td>\n",
       "      <td>carla@emailservice.com</td>\n",
       "    </tr>\n",
       "  </tbody>\n",
       "</table>\n",
       "</div>"
      ],
      "text/plain": [
       "         nome  student ID             domain                      email\n",
       "143    OTAVIO         307  @emailservice.com    otavio@emailservice.com\n",
       "166    MICHEL         295  @emailservice.com    michel@emailservice.com\n",
       "104  REINALDO           7  @emailservice.com  reinaldo@emailservice.com\n",
       "30     ELIANE          86   @emaildomain.com     eliane@emaildomain.com\n",
       "35      CARLA         176  @emailservice.com     carla@emailservice.com"
      ]
     },
     "execution_count": 18,
     "metadata": {},
     "output_type": "execute_result"
    }
   ],
   "source": [
    "names.sample(5)"
   ]
  },
  {
   "cell_type": "markdown",
   "id": "4ed0ef8a",
   "metadata": {},
   "source": [
    "# Creating Course Column"
   ]
  },
  {
   "cell_type": "code",
   "execution_count": 19,
   "id": "e2b1fee6",
   "metadata": {},
   "outputs": [
    {
     "name": "stdout",
     "output_type": "stream",
     "text": [
      "Requirement already satisfied: html5lib in /Users/victorfigueiredo/opt/anaconda3/lib/python3.9/site-packages (1.1)\n",
      "Requirement already satisfied: six>=1.9 in /Users/victorfigueiredo/opt/anaconda3/lib/python3.9/site-packages (from html5lib) (1.16.0)\n",
      "Requirement already satisfied: webencodings in /Users/victorfigueiredo/opt/anaconda3/lib/python3.9/site-packages (from html5lib) (0.5.1)\n",
      "Requirement already satisfied: lxml in /Users/victorfigueiredo/opt/anaconda3/lib/python3.9/site-packages (4.8.0)\n"
     ]
    }
   ],
   "source": [
    "# installing libraries\n",
    "\n",
    "!pip3 install html5lib\n",
    "!pip3 install lxml\n",
    "\n",
    "# I'm not sure, but this libraries must be installed using terminal, otherwise I got an error, I not sure why, maybe because of the virtual_area"
   ]
  },
  {
   "cell_type": "code",
   "execution_count": 20,
   "id": "b3a6b059",
   "metadata": {},
   "outputs": [],
   "source": [
    "import html5lib"
   ]
  },
  {
   "cell_type": "code",
   "execution_count": 21,
   "id": "41cf4a30",
   "metadata": {},
   "outputs": [],
   "source": [
    "# url courses option list\n",
    "\n",
    "url = 'http://tabela-cursos.herokuapp.com/index.html'"
   ]
  },
  {
   "cell_type": "code",
   "execution_count": 22,
   "id": "659ae7fd",
   "metadata": {},
   "outputs": [],
   "source": [
    "courses = pd.read_html(url)"
   ]
  },
  {
   "cell_type": "code",
   "execution_count": 23,
   "id": "616c06e3",
   "metadata": {},
   "outputs": [
    {
     "data": {
      "text/plain": [
       "[                          Nome do curso\n",
       " 0                 Lógica de programação\n",
       " 1                         Java para Web\n",
       " 2                           C# para Web\n",
       " 3                         Ruby on Rails\n",
       " 4                      Cursos de Python\n",
       " 5                         PHP com MySql\n",
       " 6                         .NET para web\n",
       " 7            Novas integrações com Java\n",
       " 8                          TDD com Java\n",
       " 9                   Código limpo com C#\n",
       " 10  Preparatório para certificação Java\n",
       " 11                      Hardware básico\n",
       " 12                Persistência com .NET\n",
       " 13                  Desenvolvendo jogos\n",
       " 14                     Análise de dados\n",
       " 15                   Estatística básica\n",
       " 16                  Internet das coisas\n",
       " 17                Programação funcional\n",
       " 18                Boas práticas em Java\n",
       " 19          Orientação objetos com Java]"
      ]
     },
     "execution_count": 23,
     "metadata": {},
     "output_type": "execute_result"
    }
   ],
   "source": [
    "courses"
   ]
  },
  {
   "cell_type": "code",
   "execution_count": 24,
   "id": "53eba7fe",
   "metadata": {},
   "outputs": [
    {
     "data": {
      "text/plain": [
       "list"
      ]
     },
     "execution_count": 24,
     "metadata": {},
     "output_type": "execute_result"
    }
   ],
   "source": [
    "type(courses)"
   ]
  },
  {
   "cell_type": "code",
   "execution_count": 25,
   "id": "87656524",
   "metadata": {},
   "outputs": [],
   "source": [
    "# converting to a dataframe\n",
    "\n",
    "courses = courses[0]"
   ]
  },
  {
   "cell_type": "code",
   "execution_count": 26,
   "id": "0a53bed5",
   "metadata": {},
   "outputs": [
    {
     "data": {
      "text/html": [
       "<div>\n",
       "<style scoped>\n",
       "    .dataframe tbody tr th:only-of-type {\n",
       "        vertical-align: middle;\n",
       "    }\n",
       "\n",
       "    .dataframe tbody tr th {\n",
       "        vertical-align: top;\n",
       "    }\n",
       "\n",
       "    .dataframe thead th {\n",
       "        text-align: right;\n",
       "    }\n",
       "</style>\n",
       "<table border=\"1\" class=\"dataframe\">\n",
       "  <thead>\n",
       "    <tr style=\"text-align: right;\">\n",
       "      <th></th>\n",
       "      <th>Nome do curso</th>\n",
       "    </tr>\n",
       "  </thead>\n",
       "  <tbody>\n",
       "    <tr>\n",
       "      <th>0</th>\n",
       "      <td>Lógica de programação</td>\n",
       "    </tr>\n",
       "    <tr>\n",
       "      <th>1</th>\n",
       "      <td>Java para Web</td>\n",
       "    </tr>\n",
       "    <tr>\n",
       "      <th>2</th>\n",
       "      <td>C# para Web</td>\n",
       "    </tr>\n",
       "    <tr>\n",
       "      <th>3</th>\n",
       "      <td>Ruby on Rails</td>\n",
       "    </tr>\n",
       "    <tr>\n",
       "      <th>4</th>\n",
       "      <td>Cursos de Python</td>\n",
       "    </tr>\n",
       "  </tbody>\n",
       "</table>\n",
       "</div>"
      ],
      "text/plain": [
       "           Nome do curso\n",
       "0  Lógica de programação\n",
       "1          Java para Web\n",
       "2            C# para Web\n",
       "3          Ruby on Rails\n",
       "4       Cursos de Python"
      ]
     },
     "execution_count": 26,
     "metadata": {},
     "output_type": "execute_result"
    }
   ],
   "source": [
    "courses.head(5)"
   ]
  },
  {
   "cell_type": "code",
   "execution_count": 27,
   "id": "39d8229c",
   "metadata": {},
   "outputs": [],
   "source": [
    "# deleting spaces between words 'Nome do curso'\n",
    "\n",
    "courses = courses.rename(columns = {'Nome do curso': 'course_name'})"
   ]
  },
  {
   "cell_type": "code",
   "execution_count": 28,
   "id": "cb2f0876",
   "metadata": {},
   "outputs": [
    {
     "data": {
      "text/html": [
       "<div>\n",
       "<style scoped>\n",
       "    .dataframe tbody tr th:only-of-type {\n",
       "        vertical-align: middle;\n",
       "    }\n",
       "\n",
       "    .dataframe tbody tr th {\n",
       "        vertical-align: top;\n",
       "    }\n",
       "\n",
       "    .dataframe thead th {\n",
       "        text-align: right;\n",
       "    }\n",
       "</style>\n",
       "<table border=\"1\" class=\"dataframe\">\n",
       "  <thead>\n",
       "    <tr style=\"text-align: right;\">\n",
       "      <th></th>\n",
       "      <th>course_name</th>\n",
       "    </tr>\n",
       "  </thead>\n",
       "  <tbody>\n",
       "    <tr>\n",
       "      <th>13</th>\n",
       "      <td>Desenvolvendo jogos</td>\n",
       "    </tr>\n",
       "    <tr>\n",
       "      <th>17</th>\n",
       "      <td>Programação funcional</td>\n",
       "    </tr>\n",
       "    <tr>\n",
       "      <th>5</th>\n",
       "      <td>PHP com MySql</td>\n",
       "    </tr>\n",
       "    <tr>\n",
       "      <th>8</th>\n",
       "      <td>TDD com Java</td>\n",
       "    </tr>\n",
       "    <tr>\n",
       "      <th>19</th>\n",
       "      <td>Orientação objetos com Java</td>\n",
       "    </tr>\n",
       "  </tbody>\n",
       "</table>\n",
       "</div>"
      ],
      "text/plain": [
       "                    course_name\n",
       "13          Desenvolvendo jogos\n",
       "17        Programação funcional\n",
       "5                 PHP com MySql\n",
       "8                  TDD com Java\n",
       "19  Orientação objetos com Java"
      ]
     },
     "execution_count": 28,
     "metadata": {},
     "output_type": "execute_result"
    }
   ],
   "source": [
    "courses.sample(5)"
   ]
  },
  {
   "cell_type": "code",
   "execution_count": 29,
   "id": "6d8f2069",
   "metadata": {},
   "outputs": [],
   "source": [
    "# creating courses ID:\n",
    "\n",
    "courses['Course ID'] = courses.index + 1"
   ]
  },
  {
   "cell_type": "code",
   "execution_count": 30,
   "id": "b44dfaf8",
   "metadata": {},
   "outputs": [
    {
     "data": {
      "text/html": [
       "<div>\n",
       "<style scoped>\n",
       "    .dataframe tbody tr th:only-of-type {\n",
       "        vertical-align: middle;\n",
       "    }\n",
       "\n",
       "    .dataframe tbody tr th {\n",
       "        vertical-align: top;\n",
       "    }\n",
       "\n",
       "    .dataframe thead th {\n",
       "        text-align: right;\n",
       "    }\n",
       "</style>\n",
       "<table border=\"1\" class=\"dataframe\">\n",
       "  <thead>\n",
       "    <tr style=\"text-align: right;\">\n",
       "      <th></th>\n",
       "      <th>course_name</th>\n",
       "      <th>Course ID</th>\n",
       "    </tr>\n",
       "  </thead>\n",
       "  <tbody>\n",
       "    <tr>\n",
       "      <th>0</th>\n",
       "      <td>Lógica de programação</td>\n",
       "      <td>1</td>\n",
       "    </tr>\n",
       "    <tr>\n",
       "      <th>1</th>\n",
       "      <td>Java para Web</td>\n",
       "      <td>2</td>\n",
       "    </tr>\n",
       "    <tr>\n",
       "      <th>2</th>\n",
       "      <td>C# para Web</td>\n",
       "      <td>3</td>\n",
       "    </tr>\n",
       "    <tr>\n",
       "      <th>3</th>\n",
       "      <td>Ruby on Rails</td>\n",
       "      <td>4</td>\n",
       "    </tr>\n",
       "    <tr>\n",
       "      <th>4</th>\n",
       "      <td>Cursos de Python</td>\n",
       "      <td>5</td>\n",
       "    </tr>\n",
       "  </tbody>\n",
       "</table>\n",
       "</div>"
      ],
      "text/plain": [
       "             course_name  Course ID\n",
       "0  Lógica de programação          1\n",
       "1          Java para Web          2\n",
       "2            C# para Web          3\n",
       "3          Ruby on Rails          4\n",
       "4       Cursos de Python          5"
      ]
     },
     "execution_count": 30,
     "metadata": {},
     "output_type": "execute_result"
    }
   ],
   "source": [
    "courses.head(5)"
   ]
  },
  {
   "cell_type": "code",
   "execution_count": 31,
   "id": "e0e69758",
   "metadata": {},
   "outputs": [],
   "source": [
    "# setting id as index for courses:\n",
    "\n",
    "courses = courses.set_index('Course ID')"
   ]
  },
  {
   "cell_type": "code",
   "execution_count": 32,
   "id": "9a9a11a7",
   "metadata": {},
   "outputs": [
    {
     "data": {
      "text/html": [
       "<div>\n",
       "<style scoped>\n",
       "    .dataframe tbody tr th:only-of-type {\n",
       "        vertical-align: middle;\n",
       "    }\n",
       "\n",
       "    .dataframe tbody tr th {\n",
       "        vertical-align: top;\n",
       "    }\n",
       "\n",
       "    .dataframe thead th {\n",
       "        text-align: right;\n",
       "    }\n",
       "</style>\n",
       "<table border=\"1\" class=\"dataframe\">\n",
       "  <thead>\n",
       "    <tr style=\"text-align: right;\">\n",
       "      <th></th>\n",
       "      <th>course_name</th>\n",
       "    </tr>\n",
       "    <tr>\n",
       "      <th>Course ID</th>\n",
       "      <th></th>\n",
       "    </tr>\n",
       "  </thead>\n",
       "  <tbody>\n",
       "    <tr>\n",
       "      <th>1</th>\n",
       "      <td>Lógica de programação</td>\n",
       "    </tr>\n",
       "    <tr>\n",
       "      <th>2</th>\n",
       "      <td>Java para Web</td>\n",
       "    </tr>\n",
       "    <tr>\n",
       "      <th>3</th>\n",
       "      <td>C# para Web</td>\n",
       "    </tr>\n",
       "  </tbody>\n",
       "</table>\n",
       "</div>"
      ],
      "text/plain": [
       "                     course_name\n",
       "Course ID                       \n",
       "1          Lógica de programação\n",
       "2                  Java para Web\n",
       "3                    C# para Web"
      ]
     },
     "execution_count": 32,
     "metadata": {},
     "output_type": "execute_result"
    }
   ],
   "source": [
    "courses.head(3)"
   ]
  },
  {
   "cell_type": "markdown",
   "id": "74a0bd50",
   "metadata": {},
   "source": [
    "# enrolling students\n",
    "\n"
   ]
  },
  {
   "cell_type": "code",
   "execution_count": 33,
   "id": "a67750ae",
   "metadata": {},
   "outputs": [],
   "source": [
    "# more students usually are enrolled in one or two courses and less in three or more"
   ]
  },
  {
   "cell_type": "code",
   "execution_count": 34,
   "id": "bfc68476",
   "metadata": {},
   "outputs": [],
   "source": [
    "names['Enrol'] = np.ceil(np.random.exponential(size = students_total)* 1.5).astype(int)\n",
    "# .exponential() will provide the distribution above based on the number of students\n",
    "# .ceil() will eliminate 0's"
   ]
  },
  {
   "cell_type": "code",
   "execution_count": 35,
   "id": "7c680775",
   "metadata": {},
   "outputs": [
    {
     "data": {
      "text/html": [
       "<div>\n",
       "<style scoped>\n",
       "    .dataframe tbody tr th:only-of-type {\n",
       "        vertical-align: middle;\n",
       "    }\n",
       "\n",
       "    .dataframe tbody tr th {\n",
       "        vertical-align: top;\n",
       "    }\n",
       "\n",
       "    .dataframe thead th {\n",
       "        text-align: right;\n",
       "    }\n",
       "</style>\n",
       "<table border=\"1\" class=\"dataframe\">\n",
       "  <thead>\n",
       "    <tr style=\"text-align: right;\">\n",
       "      <th></th>\n",
       "      <th>nome</th>\n",
       "      <th>student ID</th>\n",
       "      <th>domain</th>\n",
       "      <th>email</th>\n",
       "      <th>Enrol</th>\n",
       "    </tr>\n",
       "  </thead>\n",
       "  <tbody>\n",
       "    <tr>\n",
       "      <th>0</th>\n",
       "      <td>MARIA</td>\n",
       "      <td>361</td>\n",
       "      <td>@emailservice.com</td>\n",
       "      <td>maria@emailservice.com</td>\n",
       "      <td>3</td>\n",
       "    </tr>\n",
       "    <tr>\n",
       "      <th>1</th>\n",
       "      <td>ANA</td>\n",
       "      <td>38</td>\n",
       "      <td>@emaildomain.com</td>\n",
       "      <td>ana@emaildomain.com</td>\n",
       "      <td>5</td>\n",
       "    </tr>\n",
       "    <tr>\n",
       "      <th>2</th>\n",
       "      <td>FRANCISCA</td>\n",
       "      <td>57</td>\n",
       "      <td>@emailservice.com</td>\n",
       "      <td>francisca@emailservice.com</td>\n",
       "      <td>3</td>\n",
       "    </tr>\n",
       "    <tr>\n",
       "      <th>3</th>\n",
       "      <td>ANTONIA</td>\n",
       "      <td>225</td>\n",
       "      <td>@emaildomain.com</td>\n",
       "      <td>antonia@emaildomain.com</td>\n",
       "      <td>1</td>\n",
       "    </tr>\n",
       "    <tr>\n",
       "      <th>4</th>\n",
       "      <td>ADRIANA</td>\n",
       "      <td>152</td>\n",
       "      <td>@emailservice.com</td>\n",
       "      <td>adriana@emailservice.com</td>\n",
       "      <td>1</td>\n",
       "    </tr>\n",
       "  </tbody>\n",
       "</table>\n",
       "</div>"
      ],
      "text/plain": [
       "        nome  student ID             domain                       email  Enrol\n",
       "0      MARIA         361  @emailservice.com      maria@emailservice.com      3\n",
       "1        ANA          38   @emaildomain.com         ana@emaildomain.com      5\n",
       "2  FRANCISCA          57  @emailservice.com  francisca@emailservice.com      3\n",
       "3    ANTONIA         225   @emaildomain.com     antonia@emaildomain.com      1\n",
       "4    ADRIANA         152  @emailservice.com    adriana@emailservice.com      1"
      ]
     },
     "execution_count": 35,
     "metadata": {},
     "output_type": "execute_result"
    }
   ],
   "source": [
    "names.head(5)"
   ]
  },
  {
   "cell_type": "code",
   "execution_count": 36,
   "id": "cd69cb2f",
   "metadata": {},
   "outputs": [
    {
     "data": {
      "text/plain": [
       "count    400.000000\n",
       "mean       2.065000\n",
       "std        1.588106\n",
       "min        1.000000\n",
       "25%        1.000000\n",
       "50%        2.000000\n",
       "75%        2.250000\n",
       "max       13.000000\n",
       "Name: Enrol, dtype: float64"
      ]
     },
     "execution_count": 36,
     "metadata": {},
     "output_type": "execute_result"
    }
   ],
   "source": [
    "names.Enrol.describe()"
   ]
  },
  {
   "cell_type": "code",
   "execution_count": 37,
   "id": "443c8eed",
   "metadata": {},
   "outputs": [],
   "source": [
    "# ploting graph"
   ]
  },
  {
   "cell_type": "code",
   "execution_count": 38,
   "id": "e56129d1",
   "metadata": {},
   "outputs": [],
   "source": [
    "import seaborn as sns"
   ]
  },
  {
   "cell_type": "code",
   "execution_count": 39,
   "id": "678eee54",
   "metadata": {},
   "outputs": [
    {
     "data": {
      "text/plain": [
       "<seaborn.axisgrid.FacetGrid at 0x7f97fb66cee0>"
      ]
     },
     "execution_count": 39,
     "metadata": {},
     "output_type": "execute_result"
    },
    {
     "data": {
      "image/png": "[encoded data removed]",
      "text/plain": [
       "<Figure size 360x360 with 1 Axes>"
      ]
     },
     "metadata": {
      "needs_background": "light"
     },
     "output_type": "display_data"
    }
   ],
   "source": [
    "sns.displot(names.Enrol)"
   ]
  },
  {
   "cell_type": "code",
   "execution_count": 40,
   "id": "68ef2f50",
   "metadata": {},
   "outputs": [],
   "source": [
    "# checking the number of students per enrol"
   ]
  },
  {
   "cell_type": "code",
   "execution_count": 41,
   "id": "72e3ed6a",
   "metadata": {},
   "outputs": [
    {
     "data": {
      "text/plain": [
       "1     196\n",
       "2     104\n",
       "3      45\n",
       "4      26\n",
       "5      13\n",
       "6       9\n",
       "7       4\n",
       "13      1\n",
       "11      1\n",
       "12      1\n",
       "Name: Enrol, dtype: int64"
      ]
     },
     "execution_count": 41,
     "metadata": {},
     "output_type": "execute_result"
    }
   ],
   "source": [
    "names.Enrol.value_counts()"
   ]
  },
  {
   "cell_type": "markdown",
   "id": "9385eb22",
   "metadata": {},
   "source": [
    "# Selecting courses per student"
   ]
  },
  {
   "cell_type": "code",
   "execution_count": 42,
   "id": "cc38d2de",
   "metadata": {},
   "outputs": [],
   "source": [
    "# creating a function to calculate the random probability:\n",
    "\n",
    "all_classes = []\n",
    "x = np.random.rand(20) #random number based on a list of 20 values (we have 20 different courses)\n",
    "prob = x / sum(x)"
   ]
  },
  {
   "cell_type": "code",
   "execution_count": 51,
   "id": "4cbe9035",
   "metadata": {},
   "outputs": [],
   "source": [
    "#searhing in every line of datafra for the name and id_student in order to know the number of courses enrolled \n",
    "#we need to search using a for Iterator that will search the index and the line we need, to do that we use the function .iterrrows()\n",
    "# for every check, we keep the id of the student using row.student_ID and the amout of enrols using row.Enrol\n",
    "\n",
    "for index, row in names.iterrows():\n",
    "    id = row['student ID']\n",
    "    enrolled = row.Enrol\n",
    "    for i in range(enrolled):\n",
    "        erwl = [id, np.random.choice(courses.index, p = prob)]\n",
    "        all_classes.append(erwl)\n",
    "        \n",
    "# We this information we need to decide the number of courses. To do that we use a new for that will search every 'i'element\n",
    "# on the range(enrolled)(values between 0 and the number of enrrols/student). That we have a variable erwl that will keep the \n",
    "#student_ID and the Course ID, all randomly using np.random.choice(), that will recieve the Parameters (courses.index) with the\n",
    "# couse index and the variable probabilistic prob (x / sum(x))\n",
    "# Finally we get the values and store it on an array  called all_erwl\n",
    "\n",
    "enrolled = pd.DataFrame(all_classes, columns = ['student_ID', 'Course ID'])"
   ]
  },
  {
   "cell_type": "code",
   "execution_count": 52,
   "id": "40c4e391",
   "metadata": {},
   "outputs": [
    {
     "data": {
      "text/html": [
       "<div>\n",
       "<style scoped>\n",
       "    .dataframe tbody tr th:only-of-type {\n",
       "        vertical-align: middle;\n",
       "    }\n",
       "\n",
       "    .dataframe tbody tr th {\n",
       "        vertical-align: top;\n",
       "    }\n",
       "\n",
       "    .dataframe thead th {\n",
       "        text-align: right;\n",
       "    }\n",
       "</style>\n",
       "<table border=\"1\" class=\"dataframe\">\n",
       "  <thead>\n",
       "    <tr style=\"text-align: right;\">\n",
       "      <th></th>\n",
       "      <th>student_ID</th>\n",
       "      <th>Course ID</th>\n",
       "    </tr>\n",
       "  </thead>\n",
       "  <tbody>\n",
       "    <tr>\n",
       "      <th>0</th>\n",
       "      <td>361</td>\n",
       "      <td>8</td>\n",
       "    </tr>\n",
       "    <tr>\n",
       "      <th>1</th>\n",
       "      <td>361</td>\n",
       "      <td>11</td>\n",
       "    </tr>\n",
       "    <tr>\n",
       "      <th>2</th>\n",
       "      <td>361</td>\n",
       "      <td>1</td>\n",
       "    </tr>\n",
       "    <tr>\n",
       "      <th>3</th>\n",
       "      <td>38</td>\n",
       "      <td>11</td>\n",
       "    </tr>\n",
       "    <tr>\n",
       "      <th>4</th>\n",
       "      <td>38</td>\n",
       "      <td>11</td>\n",
       "    </tr>\n",
       "  </tbody>\n",
       "</table>\n",
       "</div>"
      ],
      "text/plain": [
       "   student_ID  Course ID\n",
       "0         361          8\n",
       "1         361         11\n",
       "2         361          1\n",
       "3          38         11\n",
       "4          38         11"
      ]
     },
     "execution_count": 52,
     "metadata": {},
     "output_type": "execute_result"
    }
   ],
   "source": [
    "enrolled.head(5)"
   ]
  },
  {
   "cell_type": "code",
   "execution_count": 59,
   "id": "4cdf2975",
   "metadata": {},
   "outputs": [
    {
     "data": {
      "text/html": [
       "<div>\n",
       "<style scoped>\n",
       "    .dataframe tbody tr th:only-of-type {\n",
       "        vertical-align: middle;\n",
       "    }\n",
       "\n",
       "    .dataframe tbody tr th {\n",
       "        vertical-align: top;\n",
       "    }\n",
       "\n",
       "    .dataframe thead th {\n",
       "        text-align: right;\n",
       "    }\n",
       "</style>\n",
       "<table border=\"1\" class=\"dataframe\">\n",
       "  <thead>\n",
       "    <tr style=\"text-align: right;\">\n",
       "      <th></th>\n",
       "      <th>student_ID</th>\n",
       "      <th>course_name</th>\n",
       "    </tr>\n",
       "    <tr>\n",
       "      <th>Course ID</th>\n",
       "      <th></th>\n",
       "      <th></th>\n",
       "    </tr>\n",
       "  </thead>\n",
       "  <tbody>\n",
       "    <tr>\n",
       "      <th>1</th>\n",
       "      <td>200</td>\n",
       "      <td>Lógica de programação</td>\n",
       "    </tr>\n",
       "    <tr>\n",
       "      <th>2</th>\n",
       "      <td>178</td>\n",
       "      <td>Java para Web</td>\n",
       "    </tr>\n",
       "    <tr>\n",
       "      <th>3</th>\n",
       "      <td>199</td>\n",
       "      <td>C# para Web</td>\n",
       "    </tr>\n",
       "    <tr>\n",
       "      <th>4</th>\n",
       "      <td>149</td>\n",
       "      <td>Ruby on Rails</td>\n",
       "    </tr>\n",
       "    <tr>\n",
       "      <th>5</th>\n",
       "      <td>42</td>\n",
       "      <td>Cursos de Python</td>\n",
       "    </tr>\n",
       "    <tr>\n",
       "      <th>6</th>\n",
       "      <td>57</td>\n",
       "      <td>PHP com MySql</td>\n",
       "    </tr>\n",
       "    <tr>\n",
       "      <th>7</th>\n",
       "      <td>179</td>\n",
       "      <td>.NET para web</td>\n",
       "    </tr>\n",
       "    <tr>\n",
       "      <th>8</th>\n",
       "      <td>186</td>\n",
       "      <td>Novas integrações com Java</td>\n",
       "    </tr>\n",
       "    <tr>\n",
       "      <th>9</th>\n",
       "      <td>133</td>\n",
       "      <td>TDD com Java</td>\n",
       "    </tr>\n",
       "    <tr>\n",
       "      <th>10</th>\n",
       "      <td>99</td>\n",
       "      <td>Código limpo com C#</td>\n",
       "    </tr>\n",
       "    <tr>\n",
       "      <th>11</th>\n",
       "      <td>159</td>\n",
       "      <td>Preparatório para certificação Java</td>\n",
       "    </tr>\n",
       "    <tr>\n",
       "      <th>12</th>\n",
       "      <td>111</td>\n",
       "      <td>Hardware básico</td>\n",
       "    </tr>\n",
       "    <tr>\n",
       "      <th>13</th>\n",
       "      <td>59</td>\n",
       "      <td>Persistência com .NET</td>\n",
       "    </tr>\n",
       "    <tr>\n",
       "      <th>14</th>\n",
       "      <td>139</td>\n",
       "      <td>Desenvolvendo jogos</td>\n",
       "    </tr>\n",
       "    <tr>\n",
       "      <th>15</th>\n",
       "      <td>111</td>\n",
       "      <td>Análise de dados</td>\n",
       "    </tr>\n",
       "    <tr>\n",
       "      <th>16</th>\n",
       "      <td>128</td>\n",
       "      <td>Estatística básica</td>\n",
       "    </tr>\n",
       "    <tr>\n",
       "      <th>17</th>\n",
       "      <td>159</td>\n",
       "      <td>Internet das coisas</td>\n",
       "    </tr>\n",
       "    <tr>\n",
       "      <th>18</th>\n",
       "      <td>24</td>\n",
       "      <td>Programação funcional</td>\n",
       "    </tr>\n",
       "    <tr>\n",
       "      <th>19</th>\n",
       "      <td>59</td>\n",
       "      <td>Boas práticas em Java</td>\n",
       "    </tr>\n",
       "    <tr>\n",
       "      <th>20</th>\n",
       "      <td>107</td>\n",
       "      <td>Orientação objetos com Java</td>\n",
       "    </tr>\n",
       "  </tbody>\n",
       "</table>\n",
       "</div>"
      ],
      "text/plain": [
       "           student_ID                          course_name\n",
       "Course ID                                                 \n",
       "1                 200                Lógica de programação\n",
       "2                 178                        Java para Web\n",
       "3                 199                          C# para Web\n",
       "4                 149                        Ruby on Rails\n",
       "5                  42                     Cursos de Python\n",
       "6                  57                        PHP com MySql\n",
       "7                 179                        .NET para web\n",
       "8                 186           Novas integrações com Java\n",
       "9                 133                         TDD com Java\n",
       "10                 99                  Código limpo com C#\n",
       "11                159  Preparatório para certificação Java\n",
       "12                111                      Hardware básico\n",
       "13                 59                Persistência com .NET\n",
       "14                139                  Desenvolvendo jogos\n",
       "15                111                     Análise de dados\n",
       "16                128                   Estatística básica\n",
       "17                159                  Internet das coisas\n",
       "18                 24                Programação funcional\n",
       "19                 59                Boas práticas em Java\n",
       "20                107          Orientação objetos com Java"
      ]
     },
     "execution_count": 59,
     "metadata": {},
     "output_type": "execute_result"
    }
   ],
   "source": [
    "# Based on the dataFrame enrolled, we call the function groupby() using 'Course ID' as column.\n",
    "# After that we call the function count() to count the number of enrols\n",
    "# We use the function join() to unite the information to the dataframe courses, using course_name as index. \n",
    "\n",
    "enrolled.groupby('Course ID').count().join(courses['course_name'])"
   ]
  },
  {
   "cell_type": "code",
   "execution_count": 64,
   "id": "d1402242",
   "metadata": {},
   "outputs": [],
   "source": [
    "# the student_ID actually refers to the amount of students enrolled in that particular class, so we have to change the name\n",
    "\n",
    "enrolled_by_class = enrolled.groupby('Course ID').count().join(courses['course_name']).rename(columns={'student_ID':'Number_of_Students'})"
   ]
  },
  {
   "cell_type": "code",
   "execution_count": 65,
   "id": "ad33e6a2",
   "metadata": {},
   "outputs": [
    {
     "data": {
      "text/html": [
       "<div>\n",
       "<style scoped>\n",
       "    .dataframe tbody tr th:only-of-type {\n",
       "        vertical-align: middle;\n",
       "    }\n",
       "\n",
       "    .dataframe tbody tr th {\n",
       "        vertical-align: top;\n",
       "    }\n",
       "\n",
       "    .dataframe thead th {\n",
       "        text-align: right;\n",
       "    }\n",
       "</style>\n",
       "<table border=\"1\" class=\"dataframe\">\n",
       "  <thead>\n",
       "    <tr style=\"text-align: right;\">\n",
       "      <th></th>\n",
       "      <th>Number_of_Students</th>\n",
       "      <th>course_name</th>\n",
       "    </tr>\n",
       "    <tr>\n",
       "      <th>Course ID</th>\n",
       "      <th></th>\n",
       "      <th></th>\n",
       "    </tr>\n",
       "  </thead>\n",
       "  <tbody>\n",
       "    <tr>\n",
       "      <th>1</th>\n",
       "      <td>200</td>\n",
       "      <td>Lógica de programação</td>\n",
       "    </tr>\n",
       "    <tr>\n",
       "      <th>2</th>\n",
       "      <td>178</td>\n",
       "      <td>Java para Web</td>\n",
       "    </tr>\n",
       "    <tr>\n",
       "      <th>3</th>\n",
       "      <td>199</td>\n",
       "      <td>C# para Web</td>\n",
       "    </tr>\n",
       "    <tr>\n",
       "      <th>4</th>\n",
       "      <td>149</td>\n",
       "      <td>Ruby on Rails</td>\n",
       "    </tr>\n",
       "    <tr>\n",
       "      <th>5</th>\n",
       "      <td>42</td>\n",
       "      <td>Cursos de Python</td>\n",
       "    </tr>\n",
       "  </tbody>\n",
       "</table>\n",
       "</div>"
      ],
      "text/plain": [
       "           Number_of_Students            course_name\n",
       "Course ID                                           \n",
       "1                         200  Lógica de programação\n",
       "2                         178          Java para Web\n",
       "3                         199            C# para Web\n",
       "4                         149          Ruby on Rails\n",
       "5                          42       Cursos de Python"
      ]
     },
     "execution_count": 65,
     "metadata": {},
     "output_type": "execute_result"
    }
   ],
   "source": [
    "enrolled_by_class.head(5)"
   ]
  },
  {
   "cell_type": "markdown",
   "id": "154eba72",
   "metadata": {},
   "source": [
    "# Exporting to different formats\n"
   ]
  },
  {
   "cell_type": "code",
   "execution_count": 66,
   "id": "d25310db",
   "metadata": {},
   "outputs": [],
   "source": [
    "# to csv:\n",
    "\n",
    "enrolled_by_class.to_csv('enrolled_by_course.csv', sep =';' , index = False)"
   ]
  },
  {
   "cell_type": "code",
   "execution_count": 69,
   "id": "a8a4e9b1",
   "metadata": {},
   "outputs": [],
   "source": [
    "# to json: \n",
    "\n",
    "enrolled_by_class.to_json('enrolled_by_course.json')"
   ]
  },
  {
   "cell_type": "code",
   "execution_count": 70,
   "id": "e7784673",
   "metadata": {},
   "outputs": [],
   "source": [
    "# to HTML:\n",
    "\n",
    "enrolled_by_class.to_html('enrolled_by_course.html')"
   ]
  },
  {
   "cell_type": "code",
   "execution_count": null,
   "id": "37cc7fdd",
   "metadata": {},
   "outputs": [],
   "source": []
  }
 ],
 "metadata": {
  "kernelspec": {
   "display_name": "Python 3 (ipykernel)",
   "language": "python",
   "name": "python3"
  },
  "language_info": {
   "codemirror_mode": {
    "name": "ipython",
    "version": 3
   },
   "file_extension": ".py",
   "mimetype": "text/x-python",
   "name": "python",
   "nbconvert_exporter": "python",
   "pygments_lexer": "ipython3",
   "version": "3.9.12"
  }
 },
 "nbformat": 4,
 "nbformat_minor": 5
}
